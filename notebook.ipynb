{
 "cells": [
  {
   "cell_type": "code",
   "execution_count": 28,
   "metadata": {},
   "outputs": [],
   "source": [
    "import torch\n",
    "import torch.nn.functional as F"
   ]
  },
  {
   "cell_type": "markdown",
   "metadata": {},
   "source": [
    "# 1 Attention\n",
    "There is 3 main ways to do attention: encoder-decoder attention, causal attention and bi-directional self-attention. I already implemented the first in this [repo](https://github.com/abtraore/nmt-rnn-pytorch-from-scratch). I will then focus on the later 2. In the heart of any attention scheme used in a transformer reside a **dot product attention**, let focus on that. "
   ]
  },
  {
   "cell_type": "markdown",
   "metadata": {},
   "source": [
    "### 1.1 Dot product attention\n",
    "\n",
    "The dot product attention can be computed using the formula: $$\\textrm{softmax} \\left(\\frac{Q K^T}{\\sqrt{d}} + M \\right) V$$ Where the (optional, but default) scaling factor $\\sqrt{d}$ is the square root of the embedding dimension."
   ]
  },
  {
   "cell_type": "code",
   "execution_count": 43,
   "metadata": {},
   "outputs": [],
   "source": [
    "# Dummy q,k,v matrix. They all should have the same shape.\n",
    "q = torch.tensor([[1,0,0],[0,1,0]],dtype=torch.float)\n",
    "k = torch.tensor([[1,2,3],[4,5,6]],dtype=torch.float)\n",
    "v = torch.tensor([[0,1,0],[1,0,1]],dtype=torch.float)\n",
    "\n",
    "# The mask used if we want to compute the causal sot product attention.\n",
    "m = torch.tensor([[1,0],[1,0]],dtype=torch.float)"
   ]
  },
  {
   "cell_type": "code",
   "execution_count": 49,
   "metadata": {},
   "outputs": [
    {
     "name": "stdout",
     "output_type": "stream",
     "text": [
      "Attention weights:\n",
      "tensor([[1., 0.],\n",
      "        [1., 0.]])\n"
     ]
    },
    {
     "data": {
      "text/plain": [
       "tensor([[0., 1., 0.],\n",
       "        [0., 1., 0.]])"
      ]
     },
     "execution_count": 49,
     "metadata": {},
     "output_type": "execute_result"
    }
   ],
   "source": [
    "def dot_product_attention(q,k,v,mask=None,scale=True):\n",
    "\n",
    "    matmul_qk = q @ k.T\n",
    "\n",
    "    if scale:\n",
    "        dk = torch.tensor(k.shape[-1],dtype=torch.float)\n",
    "        matmul_qk /= torch.sqrt(dk)\n",
    "\n",
    "    if mask is not None:\n",
    "        matmul_qk = matmul_qk + (1-mask) * -1e9\n",
    "\n",
    "    attention_weights = F.softmax(matmul_qk,dim=-1)\n",
    "\n",
    "    print(f\"Attention weights:\\n{attention_weights}\")\n",
    "\n",
    "    attention_output = attention_weights @ v\n",
    "\n",
    "    return attention_output\n",
    "\n",
    "dot_product_attention(q,k,v,mask=m)"
   ]
  },
  {
   "cell_type": "markdown",
   "metadata": {},
   "source": [
    "### 1.2 Causal dot product attention\n",
    "\n"
   ]
  },
  {
   "cell_type": "code",
   "execution_count": 55,
   "metadata": {},
   "outputs": [
    {
     "name": "stdout",
     "output_type": "stream",
     "text": [
      "Causal mask:\n",
      "tensor([[1., 0.],\n",
      "        [1., 1.]])\n",
      "\n",
      "Attention weights:\n",
      "tensor([[1.0000, 0.0000],\n",
      "        [0.1503, 0.8497]])\n"
     ]
    },
    {
     "data": {
      "text/plain": [
       "tensor([[0.0000, 1.0000, 0.0000],\n",
       "        [0.8497, 0.1503, 0.8497]])"
      ]
     },
     "execution_count": 55,
     "metadata": {},
     "output_type": "execute_result"
    }
   ],
   "source": [
    "def causal_dot_product_attention(q,k,v,scale=True):\n",
    "    \n",
    "    # The size of the mask equal the penultimate dimention of the query. (seq length)\n",
    "    mask_size = q.shape[-2]\n",
    "\n",
    "    mask = torch.tril(torch.ones(mask_size,mask_size))\n",
    "    print(f\"Causal mask:\\n{mask}\\n\")\n",
    "\n",
    "    return dot_product_attention(q,k,v,mask=mask,scale=scale)\n",
    "\n",
    "causal_dot_product_attention(q,k,v)"
   ]
  }
 ],
 "metadata": {
  "kernelspec": {
   "display_name": "env",
   "language": "python",
   "name": "python3"
  },
  "language_info": {
   "codemirror_mode": {
    "name": "ipython",
    "version": 3
   },
   "file_extension": ".py",
   "mimetype": "text/x-python",
   "name": "python",
   "nbconvert_exporter": "python",
   "pygments_lexer": "ipython3",
   "version": "3.11.8"
  }
 },
 "nbformat": 4,
 "nbformat_minor": 2
}
